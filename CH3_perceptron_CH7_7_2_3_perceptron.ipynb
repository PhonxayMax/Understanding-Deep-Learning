{
  "nbformat": 4,
  "nbformat_minor": 0,
  "metadata": {
    "colab": {
      "provenance": [],
      "authorship_tag": "ABX9TyNmWNiuvSAHc3nMV7WHURq4",
      "include_colab_link": true
    },
    "kernelspec": {
      "name": "python3",
      "display_name": "Python 3"
    },
    "language_info": {
      "name": "python"
    }
  },
  "cells": [
    {
      "cell_type": "markdown",
      "metadata": {
        "id": "view-in-github",
        "colab_type": "text"
      },
      "source": [
        "<a href=\"https://colab.research.google.com/github/PhonxayMax/Understanding-Deep-Learning/blob/main/CH3_perceptron_CH7_7_2_3_perceptron.ipynb\" target=\"_parent\"><img src=\"https://colab.research.google.com/assets/colab-badge.svg\" alt=\"Open In Colab\"/></a>"
      ]
    },
    {
      "cell_type": "code",
      "execution_count": 1,
      "metadata": {
        "id": "IiJo6n5f5wYa"
      },
      "outputs": [],
      "source": [
        "import torch\n",
        "\n",
        "def fully_connected_layer(X, W, b, activation=None):\n",
        "    \"\"\"\n",
        "    Implements a Fully Connected layer of Neural Networks\n",
        "    Input:\n",
        "    1) X: n x d tensor - each row of X is an input vector, there are n vectors\n",
        "          each of size d.\n",
        "    2) W: m x d tensor\n",
        "    Returns:\n",
        "    y: m tensor, y = W X.transpose + b\n",
        "    \"\"\"\n",
        "    assert (activation is None or activation in [torch.sigmoid, torch.relu, torch.tanh])\n",
        "    assert torch.is_tensor(X) and torch.is_tensor(W) and torch.is_tensor(b)\n",
        "    assert len(X.shape) == 2\n",
        "    n = X.shape[0]  # number of input vectors\n",
        "    d = X.shape[1]  # input dimensionality\n",
        "    m = b.shape[0]  # output dimensionality\n",
        "    assert b.shape == torch.Size([m]), \"b.shape = {}\".format(b.shape)\n",
        "    assert W.shape == torch.Size([m, d]), \"W.shape = {}\".format(W.shape)\n",
        "\n",
        "    # Append bias to the inputs and weights\n",
        "    X = torch.cat((X, torch.ones([X.shape[0], 1], dtype=torch.float32)), dim=1)\n",
        "    W = torch.cat((W, b.unsqueeze(dim=1)), dim=1)\n",
        "    y = torch.matmul(W, X.transpose(0, 1))\n",
        "\n",
        "    if activation is not None:\n",
        "        y = activation(y)\n",
        "\n",
        "    return y.transpose(0, 1)\n",
        "\n",
        "def Perceptron(X, W, b, activation=torch.relu):\n",
        "    assert W.shape[0] == 1 and b.shape[0] == 1\n",
        "    return fully_connected_layer(X, W, b, activation=activation)\n",
        "\n",
        "def MLP(X, W0, W1, b0, b1, activation0=torch.relu, activation1=None):\n",
        "    y0 = fully_connected_layer(X=X, W=W0, b=b0, activation=activation0)\n",
        "    return fully_connected_layer(X=y0, W=W1, b=b1, activation=activation1)\n"
      ]
    }
  ]
}